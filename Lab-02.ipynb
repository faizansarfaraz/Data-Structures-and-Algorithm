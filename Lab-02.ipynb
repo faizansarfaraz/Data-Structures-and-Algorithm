{
 "cells": [
  {
   "cell_type": "code",
   "execution_count": null,
   "id": "955a7192",
   "metadata": {},
   "outputs": [],
   "source": [
    "for i in range(0, 10,1):\n",
    "    for j in range(i):\n",
    "        print(\"*\", end=\"\")\n",
    "    print(\"\\n\")\n",
    "    \n",
    "for i in range(9, 0, -1):\n",
    "    for j in range(0, i-1):\n",
    "        print(\"*\", end=\"\")\n",
    "    print(\"\\n\")"
   ]
  },
  {
   "cell_type": "code",
   "execution_count": null,
   "id": "f2d5b911",
   "metadata": {},
   "outputs": [],
   "source": [
    "n = int(input(\"Enter numer for table evaluation: \"))\n",
    "for i in range(1,11):\n",
    "    print(i, \" *\", n, \" = \", i*n)"
   ]
  },
  {
   "cell_type": "code",
   "execution_count": null,
   "id": "328956e3",
   "metadata": {},
   "outputs": [],
   "source": [
    "score = float(input(\"Enter score between 0.0 - 1.0: \"))\n",
    "\n",
    "if(score>=0.9 and score<=1.0):\n",
    "    print(\"A\")\n",
    "elif(score>=0.8 and score<=0.9):\n",
    "    print(\"A\")\n",
    "elif(score>=0.7 and score<=0.8):\n",
    "    print(\"C\")\n",
    "elif(score>=0.6 and score<=0.7):\n",
    "    print(\"D\")\n",
    "elif(score<0.6 and score>=0.0):\n",
    "    print(\"F\")\n",
    "else:\n",
    "    print(\"bad score\")"
   ]
  },
  {
   "cell_type": "code",
   "execution_count": null,
   "id": "02e3d08b",
   "metadata": {},
   "outputs": [],
   "source": [
    "score = float(input(\"Enter score between 0.0 - 1.0: \"))\n",
    "def grade(score):\n",
    "    if(score>=0.9 and score<=1.0):\n",
    "        print(\"A\")\n",
    "    elif(score>=0.8 and score<=0.9):\n",
    "        print(\"B\")\n",
    "    elif(score>=0.7 and score<=0.8):\n",
    "        print(\"C\")\n",
    "    elif(score>=0.6 and score<=0.7):\n",
    "        print(\"D\")\n",
    "    elif(score<0.6 and score>=0.0):\n",
    "        print(\"F\")\n",
    "    else:\n",
    "        print(\"bad score\")\n",
    "        \n",
    "print(grade(score))"
   ]
  },
  {
   "cell_type": "code",
   "execution_count": null,
   "id": "13705e6d",
   "metadata": {},
   "outputs": [],
   "source": [
    "n = int(input(\"Enter number for factorial generation: \"))\n",
    "def fact(n):\n",
    "    if n>1:\n",
    "        return n*fact(n-1)\n",
    "    else:\n",
    "        return 1\n",
    "print(fact(n))\n"
   ]
  },
  {
   "cell_type": "code",
   "execution_count": null,
   "id": "861992c5",
   "metadata": {},
   "outputs": [],
   "source": [
    "FlowerList = ['rose', 'daffodil', 'sunflower', 'poppy', 'rose','bluebell']\n",
    "flowerName = input(\"Enter a flower name to search in list: \")\n",
    "\n",
    "if flowerName.lower() in FlowerList:\n",
    "    print(\"%s is found in the list\" %(flowerName))\n",
    "else:\n",
    "    print(\"%s is not found in the list\" %(flowerName))\n",
    "\n",
    "entrycount= FlowerList.count(flowerName)\n",
    "print(\"\\nEntry Count in the list is: \", entrycount)"
   ]
  },
  {
   "cell_type": "code",
   "execution_count": null,
   "id": "f9f94c02",
   "metadata": {},
   "outputs": [],
   "source": [
    "def SelectionSort(array, size):\n",
    "    \n",
    "    for i in range(size):\n",
    "        minm=i\n",
    "        for j in range(i+1, size):\n",
    "            if array[j] < array[minm]:\n",
    "                minm=j\n",
    "        (list1[minm], list1[i]) = (list1[i], list1[minm])\n",
    "\n",
    "list1= ['5','2','4','6','1','3']\n",
    "print(list1)\n",
    "print(\"\\nSorted List in Ascending Order\")\n",
    "size = len(list1)\n",
    "SelectionSort(list1, size)\n",
    "print(list1)\n",
    "\n"
   ]
  },
  {
   "cell_type": "code",
   "execution_count": null,
   "id": "f25a4a1b",
   "metadata": {},
   "outputs": [],
   "source": []
  }
 ],
 "metadata": {
  "kernelspec": {
   "display_name": "Python 3 (ipykernel)",
   "language": "python",
   "name": "python3"
  },
  "language_info": {
   "codemirror_mode": {
    "name": "ipython",
    "version": 3
   },
   "file_extension": ".py",
   "mimetype": "text/x-python",
   "name": "python",
   "nbconvert_exporter": "python",
   "pygments_lexer": "ipython3",
   "version": "3.10.0"
  }
 },
 "nbformat": 4,
 "nbformat_minor": 5
}
