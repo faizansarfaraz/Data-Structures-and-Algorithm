{
 "cells": [
  {
   "cell_type": "code",
   "execution_count": 7,
   "id": "cf5d24c5",
   "metadata": {},
   "outputs": [
    {
     "name": "stdout",
     "output_type": "stream",
     "text": [
      "run time=  8.586703300476074\n"
     ]
    }
   ],
   "source": [
    "def SelectionSort(M):\n",
    "    for i in range(0,len(M)):\n",
    "        minn = i\n",
    "        for j in range(i+1, len(M)):\n",
    "            if M[minn]> M[j]:\n",
    "                minn=j\n",
    "        temp=M[i]\n",
    "        M[i]=M[minn]\n",
    "        M[minn]=temp\n",
    "    return M\n",
    "Z=[89,43,12,10,6]\n",
    "\n",
    "SelectionSort(Z)\n",
    "\n",
    "import time\n",
    "a=time.time()\n",
    "SelectionSort(list(range(10000,1,-1)))\n",
    "b=time.time()\n",
    "c=b-a\n",
    "print(\"run time= \", c)"
   ]
  },
  {
   "cell_type": "code",
   "execution_count": 19,
   "id": "df654422",
   "metadata": {},
   "outputs": [
    {
     "name": "stdout",
     "output_type": "stream",
     "text": [
      "[6, 10, 12, 43, 89]\n",
      "run time=  37.02703070640564\n"
     ]
    }
   ],
   "source": [
    "def BubbleSort(M):\n",
    "    for i in range(0, len(M)):\n",
    "        for j in range(0, len(M)-i-1):\n",
    "            if M[j]>M[j+1]:\n",
    "                temp=M[j]\n",
    "                M[j]=M[j+1]\n",
    "                M[j+1]=temp\n",
    "\n",
    "Z=[89,43,12,10,6]\n",
    "\n",
    "BubbleSort(Z)\n",
    "print(Z)\n",
    "\n",
    "import time\n",
    "a=time.time()\n",
    "BubbleSort(list(range(10000,1,-1)))\n",
    "b=time.time()\n",
    "c=b-a\n",
    "print(\"run time= \", c)"
   ]
  },
  {
   "cell_type": "code",
   "execution_count": 33,
   "id": "435dd045",
   "metadata": {},
   "outputs": [
    {
     "name": "stdout",
     "output_type": "stream",
     "text": [
      "[6, 10, 12, 43, 89]\n",
      "run time=  30.959386825561523\n"
     ]
    }
   ],
   "source": [
    "def InsertionSort(M):\n",
    "     for i in range(1, len(M)):\n",
    "            key = M[i]\n",
    "            j = i-1\n",
    "            while j >=0 and key < M[j] :\n",
    "                M[j+1] = M[j]\n",
    "                j -= 1\n",
    "            M[j+1] = key\n",
    "        \n",
    "Z=[89,43,12,10,6]\n",
    "InsertionSort(Z)\n",
    "print(Z)\n",
    "\n",
    "import time\n",
    "a=time.time()\n",
    "BubbleSort(list(range(10000,1,-1)))\n",
    "b=time.time()\n",
    "c=b-a\n",
    "print(\"run time= \", c)"
   ]
  },
  {
   "cell_type": "code",
   "execution_count": null,
   "id": "45a73e43",
   "metadata": {},
   "outputs": [],
   "source": []
  }
 ],
 "metadata": {
  "kernelspec": {
   "display_name": "Python 3 (ipykernel)",
   "language": "python",
   "name": "python3"
  },
  "language_info": {
   "codemirror_mode": {
    "name": "ipython",
    "version": 3
   },
   "file_extension": ".py",
   "mimetype": "text/x-python",
   "name": "python",
   "nbconvert_exporter": "python",
   "pygments_lexer": "ipython3",
   "version": "3.10.0"
  }
 },
 "nbformat": 4,
 "nbformat_minor": 5
}
